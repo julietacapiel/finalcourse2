{
 "cells": [
  {
   "cell_type": "markdown",
   "id": "610c43d5-e798-4d4d-b9c3-2cd6cf9079fc",
   "metadata": {},
   "source": [
    "# Data Science Tools and Ecosystem"
   ]
  },
  {
   "cell_type": "markdown",
   "id": "3611dee3-1844-4bca-84fc-3dbad9fbb721",
   "metadata": {},
   "source": [
    "##### In this notebook, Data Science Tools and Ecosystem are summarized."
   ]
  },
  {
   "cell_type": "markdown",
   "id": "9975dd50-7eda-494d-a07f-62a3284cc50e",
   "metadata": {},
   "source": [
    "**Objectives:**\n",
    "* List the popular programming languages used in data science.\n",
    "* List libraries commonly used by data scientists.\n",
    "* List the essential tools and environments used in data science projects.\n",
    "* Present examples of evaluating arithmetic expressions in Python."
   ]
  },
  {
   "cell_type": "markdown",
   "id": "b63455dd-1490-4f37-a8de-7867ab15b95d",
   "metadata": {},
   "source": [
    "Some of the popular languages that Data Scientists use are:\n",
    "1. Python\n",
    "2. R\n",
    "3. Julia\n",
    "4. SQL"
   ]
  },
  {
   "cell_type": "markdown",
   "id": "147311ae-edf9-4810-882d-1f714c6986f7",
   "metadata": {},
   "source": [
    "Some of the commonly used libraries used by Data Scientists include:\n",
    "1. NumPy\n",
    "2. Pandas\n",
    "3. TensorFlow\n",
    "4. Matplotlib"
   ]
  },
  {
   "cell_type": "markdown",
   "id": "87a19bf7-2a67-44b9-888b-86d60ebbffae",
   "metadata": {},
   "source": [
    "| **Data Science Tools** |\n",
    "| ---- |\n",
    "| Jupyter Notebook |\n",
    "| RStudio |\n",
    "| Anaconda |"
   ]
  },
  {
   "cell_type": "markdown",
   "id": "51f7c57c-9337-4a0f-9fc6-527dec2c799c",
   "metadata": {},
   "source": [
    "### Below are a few examples of evaluating arithmetic expressions in Python"
   ]
  },
  {
   "cell_type": "code",
   "execution_count": 4,
   "id": "b44084e2-b54f-46f7-abf8-150bac4f8bd7",
   "metadata": {},
   "outputs": [
    {
     "data": {
      "text/plain": [
       "17"
      ]
     },
     "execution_count": 4,
     "metadata": {},
     "output_type": "execute_result"
    }
   ],
   "source": [
    "# This a simple arithmetic expression to mutiply then add integers\n",
    "(3*4)+5"
   ]
  },
  {
   "cell_type": "code",
   "execution_count": 5,
   "id": "adb136af-def0-4037-9ee3-90b4e4b6b45f",
   "metadata": {},
   "outputs": [
    {
     "data": {
      "text/plain": [
       "3.3333333333333335"
      ]
     },
     "execution_count": 5,
     "metadata": {},
     "output_type": "execute_result"
    }
   ],
   "source": [
    "# This will convert 200 minutes to hours by diving by 60\n",
    "a=200 #minutes\n",
    "a/60 #hours"
   ]
  },
  {
   "cell_type": "markdown",
   "id": "7acaa72f-f176-4b0b-9350-fd4e0edd0f2b",
   "metadata": {},
   "source": [
    "## Author"
   ]
  },
  {
   "cell_type": "markdown",
   "id": "6932a2bc-f8ac-4b60-91a2-085a7b5022c9",
   "metadata": {},
   "source": [
    "Julieta Capiel"
   ]
  },
  {
   "cell_type": "code",
   "execution_count": null,
   "id": "ea7e3c7a-983c-47ec-a7e8-751f46210cf4",
   "metadata": {},
   "outputs": [],
   "source": []
  }
 ],
 "metadata": {
  "kernelspec": {
   "display_name": "Python 3 (ipykernel)",
   "language": "python",
   "name": "python3"
  },
  "language_info": {
   "codemirror_mode": {
    "name": "ipython",
    "version": 3
   },
   "file_extension": ".py",
   "mimetype": "text/x-python",
   "name": "python",
   "nbconvert_exporter": "python",
   "pygments_lexer": "ipython3",
   "version": "3.10.9"
  }
 },
 "nbformat": 4,
 "nbformat_minor": 5
}
